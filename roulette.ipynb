{
 "cells": [
  {
   "cell_type": "code",
   "execution_count": 6,
   "metadata": {
    "collapsed": true,
    "pycharm": {
     "name": "#%%\n"
    }
   },
   "outputs": [
    {
     "name": "stdout",
     "output_type": "stream",
     "text": [
      "======Roulette Game=====\n",
      "This is a roulette game where you bet a number between 0 and 49\n",
      "welcome player 1, you have 50000$.\n",
      "sorry try again in the next round\n"
     ]
    },
    {
     "ename": "ValueError",
     "evalue": "invalid literal for int() with base 10: ''",
     "output_type": "error",
     "traceback": [
      "\u001B[1;31m---------------------------------------------------------------------------\u001B[0m",
      "\u001B[1;31mValueError\u001B[0m                                Traceback (most recent call last)",
      "Input \u001B[1;32mIn [6]\u001B[0m, in \u001B[0;36m<cell line: 8>\u001B[1;34m()\u001B[0m\n\u001B[0;32m      6\u001B[0m \u001B[38;5;28mprint\u001B[39m(\u001B[38;5;124m\"\u001B[39m\u001B[38;5;124mwelcome player 1, you have \u001B[39m\u001B[38;5;124m\"\u001B[39m \u001B[38;5;241m+\u001B[39m \u001B[38;5;28mstr\u001B[39m(playerTotalMoney) \u001B[38;5;241m+\u001B[39m \u001B[38;5;124m\"\u001B[39m\u001B[38;5;124m$.\u001B[39m\u001B[38;5;124m\"\u001B[39m)\n\u001B[0;32m      8\u001B[0m \u001B[38;5;28;01mwhile\u001B[39;00m playerTotalMoney \u001B[38;5;241m>\u001B[39m \u001B[38;5;241m0\u001B[39m:\n\u001B[1;32m----> 9\u001B[0m     numberBet \u001B[38;5;241m=\u001B[39m \u001B[38;5;28;43mint\u001B[39;49m\u001B[43m(\u001B[49m\u001B[38;5;28;43minput\u001B[39;49m\u001B[43m(\u001B[49m\u001B[38;5;124;43m\"\u001B[39;49m\u001B[38;5;124;43mBet a number between 0 and 49:\u001B[39;49m\u001B[38;5;124;43m\"\u001B[39;49m\u001B[43m)\u001B[49m\u001B[43m)\u001B[49m\n\u001B[0;32m     10\u001B[0m     \u001B[38;5;28;01mif\u001B[39;00m numberBet \u001B[38;5;241m<\u001B[39m \u001B[38;5;241m0\u001B[39m \u001B[38;5;129;01mor\u001B[39;00m numberBet \u001B[38;5;241m>\u001B[39m \u001B[38;5;241m49\u001B[39m:\n\u001B[0;32m     11\u001B[0m         \u001B[38;5;28;01mcontinue\u001B[39;00m\n",
      "\u001B[1;31mValueError\u001B[0m: invalid literal for int() with base 10: ''"
     ]
    }
   ],
   "source": [
    "from random import randint\n",
    "\n",
    "playerTotalMoney = 50000\n",
    "print(\"======Roulette Game=====\")\n",
    "print(\"This is a roulette game where you bet a number between 0 and 49\")\n",
    "print(\"welcome player 1, you have \" + str(playerTotalMoney) + \"$.\")\n",
    "\n",
    "while playerTotalMoney > 0:\n",
    "    numberBet = int(input(\"Bet a number between 0 and 49:\"))\n",
    "    if numberBet < 0 or numberBet > 49:\n",
    "        continue\n",
    "\n",
    "    amountBet = int(input(\"Enter the amount of money to bet:\"))\n",
    "    if amountBet < 0 or amountBet > playerTotalMoney:\n",
    "        print(\"You don't have that money, try again in the next round\")\n",
    "        continue\n",
    "    randNumber = randint(0,49)\n",
    "    if numberBet == randNumber :\n",
    "        amountBet *= 50\n",
    "        playerTotalMoney += amountBet\n",
    "        print(\"Congratulation you have won \" + str(amountBet) + \", your total money = \" + str(playerTotalMoney))\n",
    "        playAgain = int(input(\"Bet again ? (enter any number for yes and 0 for no):\"))\n",
    "        if playAgain != 0:\n",
    "            continue\n",
    "        else:\n",
    "            exit(1)\n",
    "    else:\n",
    "        playerTotalMoney -= amountBet\n",
    "        print(\"sorry try again in the next round\")\n",
    "\n",
    "if playerTotalMoney == 0:\n",
    "    print(\"sorry you lost the game\")"
   ]
  },
  {
   "cell_type": "code",
   "execution_count": null,
   "outputs": [],
   "source": [],
   "metadata": {
    "collapsed": false,
    "pycharm": {
     "name": "#%%\n"
    }
   }
  }
 ],
 "metadata": {
  "kernelspec": {
   "display_name": "Python 3",
   "language": "python",
   "name": "python3"
  },
  "language_info": {
   "codemirror_mode": {
    "name": "ipython",
    "version": 2
   },
   "file_extension": ".py",
   "mimetype": "text/x-python",
   "name": "python",
   "nbconvert_exporter": "python",
   "pygments_lexer": "ipython2",
   "version": "2.7.6"
  }
 },
 "nbformat": 4,
 "nbformat_minor": 0
}